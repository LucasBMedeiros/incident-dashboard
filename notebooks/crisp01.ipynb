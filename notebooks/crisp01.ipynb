{
 "cells": [
  {
   "cell_type": "markdown",
   "id": "03b26eea",
   "metadata": {},
   "source": [
    "# Libraries"
   ]
  },
  {
   "cell_type": "code",
   "execution_count": 2,
   "id": "42ba9cfa",
   "metadata": {
    "ExecuteTime": {
     "end_time": "2024-12-19T14:00:45.206005Z",
     "start_time": "2024-12-19T14:00:45.094074Z"
    }
   },
   "outputs": [
    {
     "name": "stderr",
     "output_type": "stream",
     "text": [
      "/tmp/ipykernel_1646403/3669954126.py:6: DeprecationWarning: Importing display from IPython.core.display is deprecated since IPython 7.14, please import from IPython.display\n",
      "  from IPython.core.display      import display, HTML\n"
     ]
    }
   ],
   "source": [
    "import faker \n",
    "import datetime\n",
    "import random\n",
    "import pandas as pd\n",
    "\n",
    "from IPython.core.display      import display, HTML\n",
    "from IPython.display           import Image\n",
    "\n",
    "import numpy as np\n",
    "import pandas as pd\n",
    "import matplotlib.pyplot as plt\n",
    "import seaborn as sns\n",
    "import inflection\n",
    "import math\n",
    "import datetime"
   ]
  },
  {
   "cell_type": "code",
   "execution_count": 3,
   "id": "cd063102",
   "metadata": {
    "ExecuteTime": {
     "end_time": "2024-12-19T14:00:52.519938Z",
     "start_time": "2024-12-19T14:00:45.289627Z"
    }
   },
   "outputs": [
    {
     "name": "stdout",
     "output_type": "stream",
     "text": [
      "Requirement already satisfied: faker in ./sbu_airflow/lib/python3.12/site-packages (33.3.1)\n",
      "Requirement already satisfied: python-dateutil>=2.4 in ./sbu_airflow/lib/python3.12/site-packages (from faker) (2.9.0.post0)\n",
      "Requirement already satisfied: typing-extensions in ./sbu_airflow/lib/python3.12/site-packages (from faker) (4.12.2)\n",
      "Requirement already satisfied: six>=1.5 in ./sbu_airflow/lib/python3.12/site-packages (from python-dateutil>=2.4->faker) (1.17.0)\n"
     ]
    }
   ],
   "source": [
    "!pip install faker"
   ]
  },
  {
   "cell_type": "markdown",
   "id": "90dd10db",
   "metadata": {},
   "source": [
    "## Functions"
   ]
  },
  {
   "cell_type": "code",
   "execution_count": 6,
   "id": "bb734f49-1a3c-4147-a125-18e4a3b6cfdf",
   "metadata": {},
   "outputs": [
    {
     "data": {
      "text/html": [
       "<style>.container { width:95% !important; }</style>"
      ],
      "text/plain": [
       "<IPython.core.display.HTML object>"
      ]
     },
     "metadata": {},
     "output_type": "display_data"
    }
   ],
   "source": [
    "jupyter_settings()"
   ]
  },
  {
   "cell_type": "code",
   "execution_count": 5,
   "id": "6fce0855",
   "metadata": {
    "ExecuteTime": {
     "end_time": "2024-12-19T14:00:53.148340Z",
     "start_time": "2024-12-19T14:00:52.583655Z"
    }
   },
   "outputs": [
    {
     "data": {
      "text/html": [
       "<style>.container { width:95% !important; }</style>"
      ],
      "text/plain": [
       "<IPython.core.display.HTML object>"
      ]
     },
     "metadata": {},
     "output_type": "display_data"
    }
   ],
   "source": [
    "def jupyter_settings():\n",
    "    \n",
    "    #!matplotlib inline\n",
    "    #!pylab inline\n",
    "    \n",
    "    plt.style.use('bmh')\n",
    "    plt.rcParams['figure.figsize'] = [25, 12]\n",
    "\n",
    "    plt.rcParams['font.size'] = 12\n",
    "    \n",
    "    display(HTML(\"<style>.container { width:95% !important; }</style>\"))\n",
    "    pd.set_option('display.max_rows', 500)\n",
    "    pd.set_option('display.max_columns', 500)\n",
    "    pd.set_option('display.expand_frame_repr', False)\n",
    "    \n",
    "    sns.set()\n",
    "    \n",
    "jupyter_settings()"
   ]
  },
  {
   "cell_type": "markdown",
   "id": "50117bc3",
   "metadata": {},
   "source": [
    "## Fake data from 'faker'"
   ]
  },
  {
   "cell_type": "code",
   "execution_count": 10,
   "id": "32ff7bd1",
   "metadata": {
    "ExecuteTime": {
     "end_time": "2024-12-19T14:00:55.906158Z",
     "start_time": "2024-12-19T14:00:53.194237Z"
    }
   },
   "outputs": [
    {
     "data": {
      "text/html": [
       "<div>\n",
       "<style scoped>\n",
       "    .dataframe tbody tr th:only-of-type {\n",
       "        vertical-align: middle;\n",
       "    }\n",
       "\n",
       "    .dataframe tbody tr th {\n",
       "        vertical-align: top;\n",
       "    }\n",
       "\n",
       "    .dataframe thead th {\n",
       "        text-align: right;\n",
       "    }\n",
       "</style>\n",
       "<table border=\"1\" class=\"dataframe\">\n",
       "  <thead>\n",
       "    <tr style=\"text-align: right;\">\n",
       "      <th></th>\n",
       "      <th>Summary</th>\n",
       "      <th>Incident_ID</th>\n",
       "      <th>Date</th>\n",
       "      <th>Duration</th>\n",
       "      <th>Color</th>\n",
       "      <th>Subscriber_Impacting</th>\n",
       "      <th>Cause_by_Change</th>\n",
       "      <th>Business_Impact</th>\n",
       "      <th>Cause</th>\n",
       "      <th>Restoration</th>\n",
       "      <th>Preventatives</th>\n",
       "      <th>Impacted_Apps</th>\n",
       "      <th>Impacted_Clients</th>\n",
       "    </tr>\n",
       "  </thead>\n",
       "  <tbody>\n",
       "    <tr>\n",
       "      <th>0</th>\n",
       "      <td>Total despite their method language card fill ...</td>\n",
       "      <td>INC696235</td>\n",
       "      <td>2024-10-09T12:18:42.488789+00:00</td>\n",
       "      <td></td>\n",
       "      <td>yellow</td>\n",
       "      <td>false</td>\n",
       "      <td>false</td>\n",
       "      <td>Future bed help watch society party animal eve...</td>\n",
       "      <td></td>\n",
       "      <td></td>\n",
       "      <td>Turn create pattern blood scene article person...</td>\n",
       "      <td>BigApp</td>\n",
       "      <td>EcoVerde</td>\n",
       "    </tr>\n",
       "    <tr>\n",
       "      <th>1</th>\n",
       "      <td>Past young Mr win.</td>\n",
       "      <td>INC730827</td>\n",
       "      <td>2024-10-02T20:40:33.862669+00:00</td>\n",
       "      <td>46</td>\n",
       "      <td>red</td>\n",
       "      <td>true</td>\n",
       "      <td>false</td>\n",
       "      <td>Skill dark reason movement consider green plac...</td>\n",
       "      <td></td>\n",
       "      <td></td>\n",
       "      <td>Song network newspaper pressure possible like ...</td>\n",
       "      <td>PushApp</td>\n",
       "      <td>LuxorInnov</td>\n",
       "    </tr>\n",
       "    <tr>\n",
       "      <th>2</th>\n",
       "      <td>Your despite station seven billion more custom...</td>\n",
       "      <td>INC715048</td>\n",
       "      <td>2024-11-03T14:26:38.523325+00:00</td>\n",
       "      <td></td>\n",
       "      <td>yellow</td>\n",
       "      <td>true</td>\n",
       "      <td>true</td>\n",
       "      <td>Goal paper yet everything specific outside.</td>\n",
       "      <td></td>\n",
       "      <td></td>\n",
       "      <td>By agent buy life development significant live...</td>\n",
       "      <td>HumanApp</td>\n",
       "      <td>TechnoSphère</td>\n",
       "    </tr>\n",
       "    <tr>\n",
       "      <th>3</th>\n",
       "      <td>Hit compare have simple campaign month threat.</td>\n",
       "      <td>INC851822</td>\n",
       "      <td>2024-10-15T21:30:48.278288+00:00</td>\n",
       "      <td></td>\n",
       "      <td>yellow</td>\n",
       "      <td>true</td>\n",
       "      <td>false</td>\n",
       "      <td>Opportunity evening two whether shoulder weste...</td>\n",
       "      <td></td>\n",
       "      <td></td>\n",
       "      <td>Research walk sure why special standard produc...</td>\n",
       "      <td>HumanApp</td>\n",
       "      <td>ErowFrow</td>\n",
       "    </tr>\n",
       "    <tr>\n",
       "      <th>4</th>\n",
       "      <td>These before bag hour take a.</td>\n",
       "      <td>INC712868</td>\n",
       "      <td>2024-11-15T22:42:10.972282+00:00</td>\n",
       "      <td></td>\n",
       "      <td>purple</td>\n",
       "      <td>false</td>\n",
       "      <td>true</td>\n",
       "      <td>Attack inside experience natural as bit spring.</td>\n",
       "      <td>Change hot another hospital because interview ...</td>\n",
       "      <td>At hospital Republican job similar ground even...</td>\n",
       "      <td>Section reduce play trial mind peace rate argu...</td>\n",
       "      <td>BarApp</td>\n",
       "      <td>EcoVerde</td>\n",
       "    </tr>\n",
       "  </tbody>\n",
       "</table>\n",
       "</div>"
      ],
      "text/plain": [
       "                                             Summary Incident_ID                              Date Duration   Color Subscriber_Impacting Cause_by_Change                                    Business_Impact                                              Cause                                        Restoration                                      Preventatives Impacted_Apps Impacted_Clients\n",
       "0  Total despite their method language card fill ...   INC696235  2024-10-09T12:18:42.488789+00:00           yellow                false           false  Future bed help watch society party animal eve...                                                                                                        Turn create pattern blood scene article person...        BigApp         EcoVerde\n",
       "1                                 Past young Mr win.   INC730827  2024-10-02T20:40:33.862669+00:00       46     red                 true           false  Skill dark reason movement consider green plac...                                                                                                        Song network newspaper pressure possible like ...       PushApp       LuxorInnov\n",
       "2  Your despite station seven billion more custom...   INC715048  2024-11-03T14:26:38.523325+00:00           yellow                 true            true        Goal paper yet everything specific outside.                                                                                                        By agent buy life development significant live...      HumanApp     TechnoSphère\n",
       "3     Hit compare have simple campaign month threat.   INC851822  2024-10-15T21:30:48.278288+00:00           yellow                 true           false  Opportunity evening two whether shoulder weste...                                                                                                        Research walk sure why special standard produc...      HumanApp         ErowFrow\n",
       "4                      These before bag hour take a.   INC712868  2024-11-15T22:42:10.972282+00:00           purple                false            true    Attack inside experience natural as bit spring.  Change hot another hospital because interview ...  At hospital Republican job similar ground even...  Section reduce play trial mind peace rate argu...        BarApp         EcoVerde"
      ]
     },
     "execution_count": 10,
     "metadata": {},
     "output_type": "execute_result"
    }
   ],
   "source": [
    "import random\n",
    "from faker import Faker\n",
    "from datetime import datetime, timezone, timedelta\n",
    "\n",
    "fake = Faker()\n",
    "\n",
    "def generate_data(num_records):\n",
    "    data = []\n",
    "    colors = ['blue', 'yellow', 'red', 'orange', 'purple']\n",
    "    \n",
    "    # Generate app and client names\n",
    "    app_names = [fake.word().capitalize() + \"App\" for _ in range(10)]\n",
    "    client_names = ['TechnoSphère', 'BioSanté', 'LuxorInnov', 'EcoVerde', 'AzurSys', \n",
    "                    'SavoirPro', 'MediCorps', 'GastroDélice', 'InnoVie', 'SolaireTech', \n",
    "                    'IvieSous', 'ErowFrow', 'LusNoise', 'RaimondPlus']\n",
    "    \n",
    "    incident_ids = [f\"INC{random.randint(100000, 999999)}\" for _ in range(num_records // 2)]\n",
    "    \n",
    "    # Create multiple records for each incident_id\n",
    "    for _ in range(num_records):\n",
    "        incident_id = random.choice(incident_ids)\n",
    "        \n",
    "        # Generate a date within the last 3 months\n",
    "        end_date = datetime.now(tz=timezone.utc)\n",
    "        start_date = end_date - timedelta(days=90)\n",
    "        date = fake.date_time_between(start_date=start_date, end_date=end_date, tzinfo=timezone.utc).isoformat()\n",
    "        \n",
    "        duration = fake.random_element([str(random.randint(1, 120)), ''])\n",
    "        color = random.choice(colors)\n",
    "        subscriber_impacting = random.choice(['true', 'false'])\n",
    "        cause_by_change = random.choice(['true', 'false'])\n",
    "        business_impact = fake.sentence(nb_words=10)\n",
    "        cause = fake.random_element([fake.sentence(nb_words=8), ''])\n",
    "        restoration = fake.sentence(nb_words=8) if cause else ''\n",
    "        preventatives = fake.sentence(nb_words=10)\n",
    "        impacted_app = random.choice(app_names)\n",
    "        impacted_client = random.choice(client_names)\n",
    "\n",
    "        record = {\n",
    "            \"Summary\": fake.sentence(nb_words=6),\n",
    "            \"Incident_ID\": incident_id,\n",
    "            \"Date\": date,\n",
    "            \"Duration\": duration,\n",
    "            \"Color\": color,\n",
    "            \"Subscriber_Impacting\": subscriber_impacting,\n",
    "            \"Cause_by_Change\": cause_by_change,\n",
    "            \"Business_Impact\": business_impact,\n",
    "            \"Cause\": cause,\n",
    "            \"Restoration\": restoration,\n",
    "            \"Preventatives\": preventatives,\n",
    "            \"Impacted_Apps\": impacted_app,\n",
    "            \"Impacted_Clients\": impacted_client\n",
    "        }\n",
    "        data.append(record)\n",
    "    \n",
    "    return data\n",
    "\n",
    "# Example: Generate 10,000 fake records\n",
    "fake_data = generate_data(10000)\n",
    "\n",
    "df = pd.DataFrame(fake_data)\n",
    "df.head()"
   ]
  },
  {
   "cell_type": "code",
   "execution_count": 13,
   "id": "b69a83d7",
   "metadata": {
    "ExecuteTime": {
     "end_time": "2024-12-19T14:24:50.188197Z",
     "start_time": "2024-12-19T14:24:50.159105Z"
    }
   },
   "outputs": [
    {
     "data": {
      "text/plain": [
       "Summary                 object\n",
       "Incident_ID             object\n",
       "Date                    object\n",
       "Duration                object\n",
       "Color                   object\n",
       "Subscriber_Impacting    object\n",
       "Cause_by_Change         object\n",
       "Business_Impact         object\n",
       "Cause                   object\n",
       "Restoration             object\n",
       "Preventatives           object\n",
       "Impacted_Apps           object\n",
       "Impacted_Clients        object\n",
       "dtype: object"
      ]
     },
     "execution_count": 13,
     "metadata": {},
     "output_type": "execute_result"
    }
   ],
   "source": [
    "df.dtypes"
   ]
  },
  {
   "cell_type": "code",
   "execution_count": 11,
   "id": "1e906a7d",
   "metadata": {
    "ExecuteTime": {
     "end_time": "2024-12-19T14:00:56.789461Z",
     "start_time": "2024-12-19T14:00:56.101263Z"
    }
   },
   "outputs": [
    {
     "data": {
      "text/html": [
       "<div>\n",
       "<style scoped>\n",
       "    .dataframe tbody tr th:only-of-type {\n",
       "        vertical-align: middle;\n",
       "    }\n",
       "\n",
       "    .dataframe tbody tr th {\n",
       "        vertical-align: top;\n",
       "    }\n",
       "\n",
       "    .dataframe thead th {\n",
       "        text-align: right;\n",
       "    }\n",
       "</style>\n",
       "<table border=\"1\" class=\"dataframe\">\n",
       "  <thead>\n",
       "    <tr style=\"text-align: right;\">\n",
       "      <th></th>\n",
       "      <th>Incident_ID</th>\n",
       "      <th>Summary</th>\n",
       "      <th>Date</th>\n",
       "      <th>Duration</th>\n",
       "      <th>Color</th>\n",
       "      <th>Subscriber_Impacting</th>\n",
       "      <th>Cause_by_Change</th>\n",
       "      <th>Business_Impact</th>\n",
       "      <th>Cause</th>\n",
       "      <th>Restoration</th>\n",
       "      <th>Preventatives</th>\n",
       "      <th>Impacted_Apps</th>\n",
       "      <th>Impacted_Clients</th>\n",
       "    </tr>\n",
       "  </thead>\n",
       "  <tbody>\n",
       "    <tr>\n",
       "      <th>4203</th>\n",
       "      <td>INC976018</td>\n",
       "      <td>Book travel fear thousand outside class increase.</td>\n",
       "      <td>2024-12-19 08:00</td>\n",
       "      <td>84</td>\n",
       "      <td>red</td>\n",
       "      <td>true</td>\n",
       "      <td>true</td>\n",
       "      <td>Leader decision better turn for game peace store.</td>\n",
       "      <td>Lay maintain central true young manage policy ...</td>\n",
       "      <td>Way care century history eat cost black.</td>\n",
       "      <td>Ever miss share receive data whether.</td>\n",
       "      <td>ClearlyApp, HumanApp, InsteadApp</td>\n",
       "      <td>AzurSys, SolaireTech</td>\n",
       "    </tr>\n",
       "    <tr>\n",
       "      <th>4117</th>\n",
       "      <td>INC955935</td>\n",
       "      <td>Fear specific baby bill send though bit TV.</td>\n",
       "      <td>2024-12-19 07:49</td>\n",
       "      <td>78</td>\n",
       "      <td>purple</td>\n",
       "      <td>true</td>\n",
       "      <td>true</td>\n",
       "      <td>Degree human couple worry argue draw campaign.</td>\n",
       "      <td>Family where anything find prepare rock apply ...</td>\n",
       "      <td>Establish step war stuff approach bed.</td>\n",
       "      <td>Simple bag hundred citizen table accept hundre...</td>\n",
       "      <td>AudienceApp, EconomyApp, SoldierApp</td>\n",
       "      <td>SolaireTech, TechnoSphère</td>\n",
       "    </tr>\n",
       "    <tr>\n",
       "      <th>2940</th>\n",
       "      <td>INC706476</td>\n",
       "      <td>Note lay prove almost coach.</td>\n",
       "      <td>2024-12-19 06:33</td>\n",
       "      <td>67</td>\n",
       "      <td>blue</td>\n",
       "      <td>true</td>\n",
       "      <td>true</td>\n",
       "      <td>Operation food finally final concern current u...</td>\n",
       "      <td></td>\n",
       "      <td></td>\n",
       "      <td>Response establish job claim drug to receive h...</td>\n",
       "      <td>EconomyApp, HumanApp, NecessaryApp</td>\n",
       "      <td>AzurSys, EcoVerde, ErowFrow</td>\n",
       "    </tr>\n",
       "    <tr>\n",
       "      <th>1330</th>\n",
       "      <td>INC374053</td>\n",
       "      <td>Join wall later least her middle body common.</td>\n",
       "      <td>2024-12-19 05:36</td>\n",
       "      <td>93</td>\n",
       "      <td>red</td>\n",
       "      <td>false</td>\n",
       "      <td>true</td>\n",
       "      <td>Modern give single clear seek mouth federal.</td>\n",
       "      <td>Man build fear learn rule usually amount ok ne...</td>\n",
       "      <td>Tend share own exactly face simple million it.</td>\n",
       "      <td>Young break life think type sing eight although.</td>\n",
       "      <td>BigApp</td>\n",
       "      <td>EcoVerde</td>\n",
       "    </tr>\n",
       "    <tr>\n",
       "      <th>778</th>\n",
       "      <td>INC261202</td>\n",
       "      <td>Adult hand guess shake painting tree happy.</td>\n",
       "      <td>2024-12-19 04:26</td>\n",
       "      <td>8</td>\n",
       "      <td>blue</td>\n",
       "      <td>true</td>\n",
       "      <td>true</td>\n",
       "      <td>Whether develop rule radio report unit.</td>\n",
       "      <td></td>\n",
       "      <td></td>\n",
       "      <td>Country edge performance resource ready almost...</td>\n",
       "      <td>AudienceApp, BarApp, InsteadApp, PushApp</td>\n",
       "      <td>AzurSys, BioSanté, GastroDélice, IvieSous</td>\n",
       "    </tr>\n",
       "  </tbody>\n",
       "</table>\n",
       "</div>"
      ],
      "text/plain": [
       "     Incident_ID                                            Summary              Date Duration   Color Subscriber_Impacting Cause_by_Change                                    Business_Impact                                              Cause                                     Restoration                                      Preventatives                             Impacted_Apps                           Impacted_Clients\n",
       "4203   INC976018  Book travel fear thousand outside class increase.  2024-12-19 08:00       84     red                 true            true  Leader decision better turn for game peace store.  Lay maintain central true young manage policy ...        Way care century history eat cost black.              Ever miss share receive data whether.          ClearlyApp, HumanApp, InsteadApp                       AzurSys, SolaireTech\n",
       "4117   INC955935        Fear specific baby bill send though bit TV.  2024-12-19 07:49       78  purple                 true            true     Degree human couple worry argue draw campaign.  Family where anything find prepare rock apply ...          Establish step war stuff approach bed.  Simple bag hundred citizen table accept hundre...       AudienceApp, EconomyApp, SoldierApp                  SolaireTech, TechnoSphère\n",
       "2940   INC706476                       Note lay prove almost coach.  2024-12-19 06:33       67    blue                 true            true  Operation food finally final concern current u...                                                                                                     Response establish job claim drug to receive h...        EconomyApp, HumanApp, NecessaryApp                AzurSys, EcoVerde, ErowFrow\n",
       "1330   INC374053      Join wall later least her middle body common.  2024-12-19 05:36       93     red                false            true       Modern give single clear seek mouth federal.  Man build fear learn rule usually amount ok ne...  Tend share own exactly face simple million it.   Young break life think type sing eight although.                                    BigApp                                   EcoVerde\n",
       "778    INC261202        Adult hand guess shake painting tree happy.  2024-12-19 04:26        8    blue                 true            true            Whether develop rule radio report unit.                                                                                                     Country edge performance resource ready almost...  AudienceApp, BarApp, InsteadApp, PushApp  AzurSys, BioSanté, GastroDélice, IvieSous"
      ]
     },
     "execution_count": 11,
     "metadata": {},
     "output_type": "execute_result"
    }
   ],
   "source": [
    "grouped_df = df.groupby('Incident_ID').agg({\n",
    "    'Summary': 'first'\n",
    "    ,'Date': 'first'\n",
    "    ,'Duration': 'first'\n",
    "    ,'Color': 'first'\n",
    "    ,'Subscriber_Impacting': 'first'\n",
    "    ,'Cause_by_Change': 'first'\n",
    "    ,'Business_Impact': 'first'\n",
    "    ,'Cause': 'first'\n",
    "    ,'Restoration': 'first'\n",
    "    ,'Preventatives': 'first'  \n",
    "    ,'Impacted_Apps': lambda x: ', '.join(sorted(set(x)))\n",
    "    ,'Impacted_Clients': lambda x: ', '.join(sorted(set(x)))\n",
    "}).reset_index().sort_values('Date', ascending=False)\n",
    "\n",
    "# convert to datetime\n",
    "grouped_df['Date'] = pd.to_datetime(grouped_df['Date'])\n",
    "# convert to ny tz\n",
    "grouped_df['Date'] = grouped_df['Date'].dt.tz_convert('America/New_York')\n",
    "# format date field\n",
    "grouped_df['Date'] = grouped_df['Date'].dt.strftime('%Y-%m-%d %H:%M')\n",
    "\n",
    "grouped_df.head()"
   ]
  },
  {
   "cell_type": "code",
   "execution_count": 12,
   "id": "dcfce211",
   "metadata": {
    "ExecuteTime": {
     "end_time": "2024-12-19T14:24:07.431966Z",
     "start_time": "2024-12-19T14:24:07.301816Z"
    }
   },
   "outputs": [
    {
     "data": {
      "text/plain": [
       "Incident_ID             object\n",
       "Summary                 object\n",
       "Date                    object\n",
       "Duration                object\n",
       "Color                   object\n",
       "Subscriber_Impacting    object\n",
       "Cause_by_Change         object\n",
       "Business_Impact         object\n",
       "Cause                   object\n",
       "Restoration             object\n",
       "Preventatives           object\n",
       "Impacted_Apps           object\n",
       "Impacted_Clients        object\n",
       "dtype: object"
      ]
     },
     "execution_count": 12,
     "metadata": {},
     "output_type": "execute_result"
    }
   ],
   "source": [
    "grouped_df.dtypes"
   ]
  },
  {
   "cell_type": "markdown",
   "id": "738e727a",
   "metadata": {},
   "source": [
    "## Create database .db "
   ]
  },
  {
   "cell_type": "code",
   "execution_count": 52,
   "id": "d4684e00",
   "metadata": {
    "ExecuteTime": {
     "end_time": "2024-08-14T02:37:55.831040Z",
     "start_time": "2024-08-14T02:37:54.115364Z"
    }
   },
   "outputs": [
    {
     "name": "stdout",
     "output_type": "stream",
     "text": [
      "                                                Summary Incident_ID                              Date Duration   Color Subscriber_Impacting Cause_by_Change                                    Business_Impact                                              Cause                                        Restoration                                      Preventatives Impacted_Apps Impacted_Clients\n",
      "0                        North management me establish.   INC713685  2024-05-30T22:55:21.647357+00:00      112    blue                false           false  Social material family assume could employee w...                                                                                                        Buy born part of believe enough skill second s...     DinnerApp          InnoVie\n",
      "1     Increase challenge begin officer magazine ask ...   INC286023  2024-06-24T14:12:12.101982+00:00        1  purple                false           false           Minute lawyer hard anything tell kid it.                                                                                                        Even race card few wide bed entire nature bit ...       AwayApp        MediCorps\n",
      "2                      Eye health important kid system.   INC785670  2024-06-22T11:51:26.824780+00:00       13  yellow                false           false  Economic prepare structure serious marriage ho...  Buy hear yes apply day raise site process requ...                        Crime name job model major.  Life onto system serve money strategy rule may...       TalkApp          AzurSys\n",
      "3                                  Value our fear yard.   INC818666  2024-06-30T09:20:42.048500+00:00       34    blue                false           false  Brother friend Mr happy test benefit should ci...                                                                                                        Again eye focus approach address simply societ...     WorkerApp        MediCorps\n",
      "4            Deep rock fly seat simply rock some quite.   INC762355  2024-06-09T05:20:04.751567+00:00              red                 true           false  Catch subject program line create water determ...                                                                                                        Treat ready administration exactly music time ...     WorkerApp       LuxorInnov\n",
      "...                                                 ...         ...                               ...      ...     ...                  ...             ...                                                ...                                                ...                                                ...                                                ...           ...              ...\n",
      "9995                         Firm reduce law education.   INC332622  2024-08-10T15:46:33.929305+00:00       18  yellow                false           false  Feel hospital condition position require profe...                                                                                                        Against necessary discuss ten generation close...        HowApp          AzurSys\n",
      "9996  That agency ready forget throw far successful ...   INC400208  2024-06-06T08:52:50.858553+00:00             blue                false           false  Care girl read happy star opportunity return s...                  Ground claim teach response fish.                       Them feel rock score street.  Occur significant business career heart could ...    BelieveApp        MediCorps\n",
      "9997                       Medical young book gun able.   INC249353  2024-07-08T23:08:23.133878+00:00       40     red                 true            true  Employee environmental if respond mouth statem...                                                                                                        Quite treatment better end spend develop treat...       RoadApp      SolaireTech\n",
      "9998                       Finally happen mission talk.   INC521195  2024-05-18T11:20:12.075991+00:00           orange                false           false  Discuss mouth center organization street final...              Although onto improve ok whose never.  Space price election opportunity edge deep rep...  Try throw upon financial while station imagine...      FrontApp      RaimondPlus\n",
      "9999                    Entire sport the rate key area.   INC752635  2024-07-28T02:47:18.549111+00:00       77    blue                 true            true  Fight respond recognize forward across necessa...  Officer generation easy camera trouble wonder ...  Attorney tough arm everything must school vari...             Pull technology call data second very.       AwayApp      RaimondPlus\n",
      "\n",
      "[10000 rows x 13 columns]\n"
     ]
    }
   ],
   "source": [
    "from sqlalchemy import create_engine\n",
    "\n",
    "# Create an SQLite database (the file 'mydatabase.db' will be created if it doesn't exist)\n",
    "engine = create_engine('sqlite:///mydatabase.db')\n",
    "\n",
    "# Write the DataFrame to a new table named 'my_table' in the SQLite database\n",
    "df.to_sql('my_table', con=engine, if_exists='replace', index=False)\n",
    "\n",
    "# Verify by reading the table back into a DataFrame\n",
    "df_read = pd.read_sql('my_table', con=engine)\n",
    "print(df_read)"
   ]
  },
  {
   "cell_type": "code",
   "execution_count": 55,
   "id": "aae9c1e9",
   "metadata": {
    "ExecuteTime": {
     "end_time": "2024-08-14T02:39:38.564056Z",
     "start_time": "2024-08-14T02:39:38.408337Z"
    }
   },
   "outputs": [
    {
     "ename": "OperationalError",
     "evalue": "(sqlite3.OperationalError) no such function: convert_tz\n[SQL: \nSELECT 'Summary' AS Summary,\n       Incident_ID,\n       convert_tz(\"Date\", 'UTC', 'America/New_York') as Date,\n       Duration,\n       Color,\n       Subscriber_Impacting,\n       Cause_by_Change,\n       Business_Impact,\n       Cause,\n       Restoration,\n       Preventatives,\n       group_concat(distinct Impacted_Apps) AS G_Impacted_Apps,\n       group_concat(distinct Impacted_Clients) AS G_Impacted_Clients\nFROM my_table\nGROUP BY Incident_ID\n]\n(Background on this error at: https://sqlalche.me/e/20/e3q8)",
     "output_type": "error",
     "traceback": [
      "\u001b[0;31m---------------------------------------------------------------------------\u001b[0m",
      "\u001b[0;31mOperationalError\u001b[0m                          Traceback (most recent call last)",
      "File \u001b[0;32m~/.pyenv/versions/3.8.10/envs/airbnb/lib/python3.8/site-packages/sqlalchemy/engine/base.py:1967\u001b[0m, in \u001b[0;36mConnection._exec_single_context\u001b[0;34m(self, dialect, context, statement, parameters)\u001b[0m\n\u001b[1;32m   1966\u001b[0m     \u001b[38;5;28;01mif\u001b[39;00m \u001b[38;5;129;01mnot\u001b[39;00m evt_handled:\n\u001b[0;32m-> 1967\u001b[0m         \u001b[38;5;28;43mself\u001b[39;49m\u001b[38;5;241;43m.\u001b[39;49m\u001b[43mdialect\u001b[49m\u001b[38;5;241;43m.\u001b[39;49m\u001b[43mdo_execute\u001b[49m\u001b[43m(\u001b[49m\n\u001b[1;32m   1968\u001b[0m \u001b[43m            \u001b[49m\u001b[43mcursor\u001b[49m\u001b[43m,\u001b[49m\u001b[43m \u001b[49m\u001b[43mstr_statement\u001b[49m\u001b[43m,\u001b[49m\u001b[43m \u001b[49m\u001b[43meffective_parameters\u001b[49m\u001b[43m,\u001b[49m\u001b[43m \u001b[49m\u001b[43mcontext\u001b[49m\n\u001b[1;32m   1969\u001b[0m \u001b[43m        \u001b[49m\u001b[43m)\u001b[49m\n\u001b[1;32m   1971\u001b[0m \u001b[38;5;28;01mif\u001b[39;00m \u001b[38;5;28mself\u001b[39m\u001b[38;5;241m.\u001b[39m_has_events \u001b[38;5;129;01mor\u001b[39;00m \u001b[38;5;28mself\u001b[39m\u001b[38;5;241m.\u001b[39mengine\u001b[38;5;241m.\u001b[39m_has_events:\n",
      "File \u001b[0;32m~/.pyenv/versions/3.8.10/envs/airbnb/lib/python3.8/site-packages/sqlalchemy/engine/default.py:941\u001b[0m, in \u001b[0;36mDefaultDialect.do_execute\u001b[0;34m(self, cursor, statement, parameters, context)\u001b[0m\n\u001b[1;32m    940\u001b[0m \u001b[38;5;28;01mdef\u001b[39;00m \u001b[38;5;21mdo_execute\u001b[39m(\u001b[38;5;28mself\u001b[39m, cursor, statement, parameters, context\u001b[38;5;241m=\u001b[39m\u001b[38;5;28;01mNone\u001b[39;00m):\n\u001b[0;32m--> 941\u001b[0m     \u001b[43mcursor\u001b[49m\u001b[38;5;241;43m.\u001b[39;49m\u001b[43mexecute\u001b[49m\u001b[43m(\u001b[49m\u001b[43mstatement\u001b[49m\u001b[43m,\u001b[49m\u001b[43m \u001b[49m\u001b[43mparameters\u001b[49m\u001b[43m)\u001b[49m\n",
      "\u001b[0;31mOperationalError\u001b[0m: no such function: convert_tz",
      "\nThe above exception was the direct cause of the following exception:\n",
      "\u001b[0;31mOperationalError\u001b[0m                          Traceback (most recent call last)",
      "Cell \u001b[0;32mIn[55], line 20\u001b[0m\n\u001b[1;32m      1\u001b[0m query \u001b[38;5;241m=\u001b[39m \u001b[38;5;124m\"\"\"\u001b[39m\n\u001b[1;32m      2\u001b[0m \u001b[38;5;124mSELECT \u001b[39m\u001b[38;5;124m'\u001b[39m\u001b[38;5;124mSummary\u001b[39m\u001b[38;5;124m'\u001b[39m\u001b[38;5;124m AS Summary,\u001b[39m\n\u001b[1;32m      3\u001b[0m \u001b[38;5;124m       Incident_ID,\u001b[39m\n\u001b[0;32m   (...)\u001b[0m\n\u001b[1;32m     16\u001b[0m \u001b[38;5;124mGROUP BY Incident_ID\u001b[39m\n\u001b[1;32m     17\u001b[0m \u001b[38;5;124m\"\"\"\u001b[39m\n\u001b[0;32m---> 20\u001b[0m df \u001b[38;5;241m=\u001b[39m \u001b[43mpd\u001b[49m\u001b[38;5;241;43m.\u001b[39;49m\u001b[43mread_sql\u001b[49m\u001b[43m(\u001b[49m\u001b[43mquery\u001b[49m\u001b[43m,\u001b[49m\u001b[43m \u001b[49m\u001b[43mcon\u001b[49m\u001b[38;5;241;43m=\u001b[39;49m\u001b[43mengine\u001b[49m\u001b[43m)\u001b[49m\n\u001b[1;32m     21\u001b[0m df\u001b[38;5;241m.\u001b[39mhead(\u001b[38;5;241m20\u001b[39m)\n",
      "File \u001b[0;32m~/.pyenv/versions/3.8.10/envs/airbnb/lib/python3.8/site-packages/pandas/io/sql.py:663\u001b[0m, in \u001b[0;36mread_sql\u001b[0;34m(sql, con, index_col, coerce_float, params, parse_dates, columns, chunksize, dtype_backend, dtype)\u001b[0m\n\u001b[1;32m    653\u001b[0m     \u001b[38;5;28;01mreturn\u001b[39;00m pandas_sql\u001b[38;5;241m.\u001b[39mread_table(\n\u001b[1;32m    654\u001b[0m         sql,\n\u001b[1;32m    655\u001b[0m         index_col\u001b[38;5;241m=\u001b[39mindex_col,\n\u001b[0;32m   (...)\u001b[0m\n\u001b[1;32m    660\u001b[0m         dtype_backend\u001b[38;5;241m=\u001b[39mdtype_backend,\n\u001b[1;32m    661\u001b[0m     )\n\u001b[1;32m    662\u001b[0m \u001b[38;5;28;01melse\u001b[39;00m:\n\u001b[0;32m--> 663\u001b[0m     \u001b[38;5;28;01mreturn\u001b[39;00m \u001b[43mpandas_sql\u001b[49m\u001b[38;5;241;43m.\u001b[39;49m\u001b[43mread_query\u001b[49m\u001b[43m(\u001b[49m\n\u001b[1;32m    664\u001b[0m \u001b[43m        \u001b[49m\u001b[43msql\u001b[49m\u001b[43m,\u001b[49m\n\u001b[1;32m    665\u001b[0m \u001b[43m        \u001b[49m\u001b[43mindex_col\u001b[49m\u001b[38;5;241;43m=\u001b[39;49m\u001b[43mindex_col\u001b[49m\u001b[43m,\u001b[49m\n\u001b[1;32m    666\u001b[0m \u001b[43m        \u001b[49m\u001b[43mparams\u001b[49m\u001b[38;5;241;43m=\u001b[39;49m\u001b[43mparams\u001b[49m\u001b[43m,\u001b[49m\n\u001b[1;32m    667\u001b[0m \u001b[43m        \u001b[49m\u001b[43mcoerce_float\u001b[49m\u001b[38;5;241;43m=\u001b[39;49m\u001b[43mcoerce_float\u001b[49m\u001b[43m,\u001b[49m\n\u001b[1;32m    668\u001b[0m \u001b[43m        \u001b[49m\u001b[43mparse_dates\u001b[49m\u001b[38;5;241;43m=\u001b[39;49m\u001b[43mparse_dates\u001b[49m\u001b[43m,\u001b[49m\n\u001b[1;32m    669\u001b[0m \u001b[43m        \u001b[49m\u001b[43mchunksize\u001b[49m\u001b[38;5;241;43m=\u001b[39;49m\u001b[43mchunksize\u001b[49m\u001b[43m,\u001b[49m\n\u001b[1;32m    670\u001b[0m \u001b[43m        \u001b[49m\u001b[43mdtype_backend\u001b[49m\u001b[38;5;241;43m=\u001b[39;49m\u001b[43mdtype_backend\u001b[49m\u001b[43m,\u001b[49m\n\u001b[1;32m    671\u001b[0m \u001b[43m        \u001b[49m\u001b[43mdtype\u001b[49m\u001b[38;5;241;43m=\u001b[39;49m\u001b[43mdtype\u001b[49m\u001b[43m,\u001b[49m\n\u001b[1;32m    672\u001b[0m \u001b[43m    \u001b[49m\u001b[43m)\u001b[49m\n",
      "File \u001b[0;32m~/.pyenv/versions/3.8.10/envs/airbnb/lib/python3.8/site-packages/pandas/io/sql.py:1738\u001b[0m, in \u001b[0;36mSQLDatabase.read_query\u001b[0;34m(self, sql, index_col, coerce_float, parse_dates, params, chunksize, dtype, dtype_backend)\u001b[0m\n\u001b[1;32m   1681\u001b[0m \u001b[38;5;28;01mdef\u001b[39;00m \u001b[38;5;21mread_query\u001b[39m(\n\u001b[1;32m   1682\u001b[0m     \u001b[38;5;28mself\u001b[39m,\n\u001b[1;32m   1683\u001b[0m     sql: \u001b[38;5;28mstr\u001b[39m,\n\u001b[0;32m   (...)\u001b[0m\n\u001b[1;32m   1690\u001b[0m     dtype_backend: DtypeBackend \u001b[38;5;241m|\u001b[39m Literal[\u001b[38;5;124m\"\u001b[39m\u001b[38;5;124mnumpy\u001b[39m\u001b[38;5;124m\"\u001b[39m] \u001b[38;5;241m=\u001b[39m \u001b[38;5;124m\"\u001b[39m\u001b[38;5;124mnumpy\u001b[39m\u001b[38;5;124m\"\u001b[39m,\n\u001b[1;32m   1691\u001b[0m ) \u001b[38;5;241m-\u001b[39m\u001b[38;5;241m>\u001b[39m DataFrame \u001b[38;5;241m|\u001b[39m Iterator[DataFrame]:\n\u001b[1;32m   1692\u001b[0m     \u001b[38;5;124;03m\"\"\"\u001b[39;00m\n\u001b[1;32m   1693\u001b[0m \u001b[38;5;124;03m    Read SQL query into a DataFrame.\u001b[39;00m\n\u001b[1;32m   1694\u001b[0m \n\u001b[0;32m   (...)\u001b[0m\n\u001b[1;32m   1736\u001b[0m \n\u001b[1;32m   1737\u001b[0m \u001b[38;5;124;03m    \"\"\"\u001b[39;00m\n\u001b[0;32m-> 1738\u001b[0m     result \u001b[38;5;241m=\u001b[39m \u001b[38;5;28;43mself\u001b[39;49m\u001b[38;5;241;43m.\u001b[39;49m\u001b[43mexecute\u001b[49m\u001b[43m(\u001b[49m\u001b[43msql\u001b[49m\u001b[43m,\u001b[49m\u001b[43m \u001b[49m\u001b[43mparams\u001b[49m\u001b[43m)\u001b[49m\n\u001b[1;32m   1739\u001b[0m     columns \u001b[38;5;241m=\u001b[39m result\u001b[38;5;241m.\u001b[39mkeys()\n\u001b[1;32m   1741\u001b[0m     \u001b[38;5;28;01mif\u001b[39;00m chunksize \u001b[38;5;129;01mis\u001b[39;00m \u001b[38;5;129;01mnot\u001b[39;00m \u001b[38;5;28;01mNone\u001b[39;00m:\n",
      "File \u001b[0;32m~/.pyenv/versions/3.8.10/envs/airbnb/lib/python3.8/site-packages/pandas/io/sql.py:1562\u001b[0m, in \u001b[0;36mSQLDatabase.execute\u001b[0;34m(self, sql, params)\u001b[0m\n\u001b[1;32m   1560\u001b[0m args \u001b[38;5;241m=\u001b[39m [] \u001b[38;5;28;01mif\u001b[39;00m params \u001b[38;5;129;01mis\u001b[39;00m \u001b[38;5;28;01mNone\u001b[39;00m \u001b[38;5;28;01melse\u001b[39;00m [params]\n\u001b[1;32m   1561\u001b[0m \u001b[38;5;28;01mif\u001b[39;00m \u001b[38;5;28misinstance\u001b[39m(sql, \u001b[38;5;28mstr\u001b[39m):\n\u001b[0;32m-> 1562\u001b[0m     \u001b[38;5;28;01mreturn\u001b[39;00m \u001b[38;5;28;43mself\u001b[39;49m\u001b[38;5;241;43m.\u001b[39;49m\u001b[43mcon\u001b[49m\u001b[38;5;241;43m.\u001b[39;49m\u001b[43mexec_driver_sql\u001b[49m\u001b[43m(\u001b[49m\u001b[43msql\u001b[49m\u001b[43m,\u001b[49m\u001b[43m \u001b[49m\u001b[38;5;241;43m*\u001b[39;49m\u001b[43margs\u001b[49m\u001b[43m)\u001b[49m\n\u001b[1;32m   1563\u001b[0m \u001b[38;5;28;01mreturn\u001b[39;00m \u001b[38;5;28mself\u001b[39m\u001b[38;5;241m.\u001b[39mcon\u001b[38;5;241m.\u001b[39mexecute(sql, \u001b[38;5;241m*\u001b[39margs)\n",
      "File \u001b[0;32m~/.pyenv/versions/3.8.10/envs/airbnb/lib/python3.8/site-packages/sqlalchemy/engine/base.py:1779\u001b[0m, in \u001b[0;36mConnection.exec_driver_sql\u001b[0;34m(self, statement, parameters, execution_options)\u001b[0m\n\u001b[1;32m   1774\u001b[0m execution_options \u001b[38;5;241m=\u001b[39m \u001b[38;5;28mself\u001b[39m\u001b[38;5;241m.\u001b[39m_execution_options\u001b[38;5;241m.\u001b[39mmerge_with(\n\u001b[1;32m   1775\u001b[0m     execution_options\n\u001b[1;32m   1776\u001b[0m )\n\u001b[1;32m   1778\u001b[0m dialect \u001b[38;5;241m=\u001b[39m \u001b[38;5;28mself\u001b[39m\u001b[38;5;241m.\u001b[39mdialect\n\u001b[0;32m-> 1779\u001b[0m ret \u001b[38;5;241m=\u001b[39m \u001b[38;5;28;43mself\u001b[39;49m\u001b[38;5;241;43m.\u001b[39;49m\u001b[43m_execute_context\u001b[49m\u001b[43m(\u001b[49m\n\u001b[1;32m   1780\u001b[0m \u001b[43m    \u001b[49m\u001b[43mdialect\u001b[49m\u001b[43m,\u001b[49m\n\u001b[1;32m   1781\u001b[0m \u001b[43m    \u001b[49m\u001b[43mdialect\u001b[49m\u001b[38;5;241;43m.\u001b[39;49m\u001b[43mexecution_ctx_cls\u001b[49m\u001b[38;5;241;43m.\u001b[39;49m\u001b[43m_init_statement\u001b[49m\u001b[43m,\u001b[49m\n\u001b[1;32m   1782\u001b[0m \u001b[43m    \u001b[49m\u001b[43mstatement\u001b[49m\u001b[43m,\u001b[49m\n\u001b[1;32m   1783\u001b[0m \u001b[43m    \u001b[49m\u001b[38;5;28;43;01mNone\u001b[39;49;00m\u001b[43m,\u001b[49m\n\u001b[1;32m   1784\u001b[0m \u001b[43m    \u001b[49m\u001b[43mexecution_options\u001b[49m\u001b[43m,\u001b[49m\n\u001b[1;32m   1785\u001b[0m \u001b[43m    \u001b[49m\u001b[43mstatement\u001b[49m\u001b[43m,\u001b[49m\n\u001b[1;32m   1786\u001b[0m \u001b[43m    \u001b[49m\u001b[43mdistilled_parameters\u001b[49m\u001b[43m,\u001b[49m\n\u001b[1;32m   1787\u001b[0m \u001b[43m\u001b[49m\u001b[43m)\u001b[49m\n\u001b[1;32m   1789\u001b[0m \u001b[38;5;28;01mreturn\u001b[39;00m ret\n",
      "File \u001b[0;32m~/.pyenv/versions/3.8.10/envs/airbnb/lib/python3.8/site-packages/sqlalchemy/engine/base.py:1846\u001b[0m, in \u001b[0;36mConnection._execute_context\u001b[0;34m(self, dialect, constructor, statement, parameters, execution_options, *args, **kw)\u001b[0m\n\u001b[1;32m   1844\u001b[0m     \u001b[38;5;28;01mreturn\u001b[39;00m \u001b[38;5;28mself\u001b[39m\u001b[38;5;241m.\u001b[39m_exec_insertmany_context(dialect, context)\n\u001b[1;32m   1845\u001b[0m \u001b[38;5;28;01melse\u001b[39;00m:\n\u001b[0;32m-> 1846\u001b[0m     \u001b[38;5;28;01mreturn\u001b[39;00m \u001b[38;5;28;43mself\u001b[39;49m\u001b[38;5;241;43m.\u001b[39;49m\u001b[43m_exec_single_context\u001b[49m\u001b[43m(\u001b[49m\n\u001b[1;32m   1847\u001b[0m \u001b[43m        \u001b[49m\u001b[43mdialect\u001b[49m\u001b[43m,\u001b[49m\u001b[43m \u001b[49m\u001b[43mcontext\u001b[49m\u001b[43m,\u001b[49m\u001b[43m \u001b[49m\u001b[43mstatement\u001b[49m\u001b[43m,\u001b[49m\u001b[43m \u001b[49m\u001b[43mparameters\u001b[49m\n\u001b[1;32m   1848\u001b[0m \u001b[43m    \u001b[49m\u001b[43m)\u001b[49m\n",
      "File \u001b[0;32m~/.pyenv/versions/3.8.10/envs/airbnb/lib/python3.8/site-packages/sqlalchemy/engine/base.py:1986\u001b[0m, in \u001b[0;36mConnection._exec_single_context\u001b[0;34m(self, dialect, context, statement, parameters)\u001b[0m\n\u001b[1;32m   1983\u001b[0m     result \u001b[38;5;241m=\u001b[39m context\u001b[38;5;241m.\u001b[39m_setup_result_proxy()\n\u001b[1;32m   1985\u001b[0m \u001b[38;5;28;01mexcept\u001b[39;00m \u001b[38;5;167;01mBaseException\u001b[39;00m \u001b[38;5;28;01mas\u001b[39;00m e:\n\u001b[0;32m-> 1986\u001b[0m     \u001b[38;5;28;43mself\u001b[39;49m\u001b[38;5;241;43m.\u001b[39;49m\u001b[43m_handle_dbapi_exception\u001b[49m\u001b[43m(\u001b[49m\n\u001b[1;32m   1987\u001b[0m \u001b[43m        \u001b[49m\u001b[43me\u001b[49m\u001b[43m,\u001b[49m\u001b[43m \u001b[49m\u001b[43mstr_statement\u001b[49m\u001b[43m,\u001b[49m\u001b[43m \u001b[49m\u001b[43meffective_parameters\u001b[49m\u001b[43m,\u001b[49m\u001b[43m \u001b[49m\u001b[43mcursor\u001b[49m\u001b[43m,\u001b[49m\u001b[43m \u001b[49m\u001b[43mcontext\u001b[49m\n\u001b[1;32m   1988\u001b[0m \u001b[43m    \u001b[49m\u001b[43m)\u001b[49m\n\u001b[1;32m   1990\u001b[0m \u001b[38;5;28;01mreturn\u001b[39;00m result\n",
      "File \u001b[0;32m~/.pyenv/versions/3.8.10/envs/airbnb/lib/python3.8/site-packages/sqlalchemy/engine/base.py:2355\u001b[0m, in \u001b[0;36mConnection._handle_dbapi_exception\u001b[0;34m(self, e, statement, parameters, cursor, context, is_sub_exec)\u001b[0m\n\u001b[1;32m   2353\u001b[0m \u001b[38;5;28;01melif\u001b[39;00m should_wrap:\n\u001b[1;32m   2354\u001b[0m     \u001b[38;5;28;01massert\u001b[39;00m sqlalchemy_exception \u001b[38;5;129;01mis\u001b[39;00m \u001b[38;5;129;01mnot\u001b[39;00m \u001b[38;5;28;01mNone\u001b[39;00m\n\u001b[0;32m-> 2355\u001b[0m     \u001b[38;5;28;01mraise\u001b[39;00m sqlalchemy_exception\u001b[38;5;241m.\u001b[39mwith_traceback(exc_info[\u001b[38;5;241m2\u001b[39m]) \u001b[38;5;28;01mfrom\u001b[39;00m \u001b[38;5;21;01me\u001b[39;00m\n\u001b[1;32m   2356\u001b[0m \u001b[38;5;28;01melse\u001b[39;00m:\n\u001b[1;32m   2357\u001b[0m     \u001b[38;5;28;01massert\u001b[39;00m exc_info[\u001b[38;5;241m1\u001b[39m] \u001b[38;5;129;01mis\u001b[39;00m \u001b[38;5;129;01mnot\u001b[39;00m \u001b[38;5;28;01mNone\u001b[39;00m\n",
      "File \u001b[0;32m~/.pyenv/versions/3.8.10/envs/airbnb/lib/python3.8/site-packages/sqlalchemy/engine/base.py:1967\u001b[0m, in \u001b[0;36mConnection._exec_single_context\u001b[0;34m(self, dialect, context, statement, parameters)\u001b[0m\n\u001b[1;32m   1965\u001b[0m                 \u001b[38;5;28;01mbreak\u001b[39;00m\n\u001b[1;32m   1966\u001b[0m     \u001b[38;5;28;01mif\u001b[39;00m \u001b[38;5;129;01mnot\u001b[39;00m evt_handled:\n\u001b[0;32m-> 1967\u001b[0m         \u001b[38;5;28;43mself\u001b[39;49m\u001b[38;5;241;43m.\u001b[39;49m\u001b[43mdialect\u001b[49m\u001b[38;5;241;43m.\u001b[39;49m\u001b[43mdo_execute\u001b[49m\u001b[43m(\u001b[49m\n\u001b[1;32m   1968\u001b[0m \u001b[43m            \u001b[49m\u001b[43mcursor\u001b[49m\u001b[43m,\u001b[49m\u001b[43m \u001b[49m\u001b[43mstr_statement\u001b[49m\u001b[43m,\u001b[49m\u001b[43m \u001b[49m\u001b[43meffective_parameters\u001b[49m\u001b[43m,\u001b[49m\u001b[43m \u001b[49m\u001b[43mcontext\u001b[49m\n\u001b[1;32m   1969\u001b[0m \u001b[43m        \u001b[49m\u001b[43m)\u001b[49m\n\u001b[1;32m   1971\u001b[0m \u001b[38;5;28;01mif\u001b[39;00m \u001b[38;5;28mself\u001b[39m\u001b[38;5;241m.\u001b[39m_has_events \u001b[38;5;129;01mor\u001b[39;00m \u001b[38;5;28mself\u001b[39m\u001b[38;5;241m.\u001b[39mengine\u001b[38;5;241m.\u001b[39m_has_events:\n\u001b[1;32m   1972\u001b[0m     \u001b[38;5;28mself\u001b[39m\u001b[38;5;241m.\u001b[39mdispatch\u001b[38;5;241m.\u001b[39mafter_cursor_execute(\n\u001b[1;32m   1973\u001b[0m         \u001b[38;5;28mself\u001b[39m,\n\u001b[1;32m   1974\u001b[0m         cursor,\n\u001b[0;32m   (...)\u001b[0m\n\u001b[1;32m   1978\u001b[0m         context\u001b[38;5;241m.\u001b[39mexecutemany,\n\u001b[1;32m   1979\u001b[0m     )\n",
      "File \u001b[0;32m~/.pyenv/versions/3.8.10/envs/airbnb/lib/python3.8/site-packages/sqlalchemy/engine/default.py:941\u001b[0m, in \u001b[0;36mDefaultDialect.do_execute\u001b[0;34m(self, cursor, statement, parameters, context)\u001b[0m\n\u001b[1;32m    940\u001b[0m \u001b[38;5;28;01mdef\u001b[39;00m \u001b[38;5;21mdo_execute\u001b[39m(\u001b[38;5;28mself\u001b[39m, cursor, statement, parameters, context\u001b[38;5;241m=\u001b[39m\u001b[38;5;28;01mNone\u001b[39;00m):\n\u001b[0;32m--> 941\u001b[0m     \u001b[43mcursor\u001b[49m\u001b[38;5;241;43m.\u001b[39;49m\u001b[43mexecute\u001b[49m\u001b[43m(\u001b[49m\u001b[43mstatement\u001b[49m\u001b[43m,\u001b[49m\u001b[43m \u001b[49m\u001b[43mparameters\u001b[49m\u001b[43m)\u001b[49m\n",
      "\u001b[0;31mOperationalError\u001b[0m: (sqlite3.OperationalError) no such function: convert_tz\n[SQL: \nSELECT 'Summary' AS Summary,\n       Incident_ID,\n       convert_tz(\"Date\", 'UTC', 'America/New_York') as Date,\n       Duration,\n       Color,\n       Subscriber_Impacting,\n       Cause_by_Change,\n       Business_Impact,\n       Cause,\n       Restoration,\n       Preventatives,\n       group_concat(distinct Impacted_Apps) AS G_Impacted_Apps,\n       group_concat(distinct Impacted_Clients) AS G_Impacted_Clients\nFROM my_table\nGROUP BY Incident_ID\n]\n(Background on this error at: https://sqlalche.me/e/20/e3q8)"
     ]
    }
   ],
   "source": [
    "query = \"\"\"\n",
    "SELECT 'Summary' AS Summary,\n",
    "       Incident_ID,\n",
    "       convert_tz(\"Date\", 'UTC', 'America/New_York') as Date,\n",
    "       Duration,\n",
    "       Color,\n",
    "       Subscriber_Impacting,\n",
    "       Cause_by_Change,\n",
    "       Business_Impact,\n",
    "       Cause,\n",
    "       Restoration,\n",
    "       Preventatives,\n",
    "       group_concat(distinct Impacted_Apps) AS G_Impacted_Apps,\n",
    "       group_concat(distinct Impacted_Clients) AS G_Impacted_Clients\n",
    "FROM my_table\n",
    "GROUP BY Incident_ID\n",
    "\"\"\"\n",
    "\n",
    "\n",
    "df = pd.read_sql(query, con=engine)\n",
    "df.head(20)"
   ]
  },
  {
   "cell_type": "code",
   "execution_count": 23,
   "id": "093df774",
   "metadata": {
    "ExecuteTime": {
     "end_time": "2024-08-14T01:58:28.332727Z",
     "start_time": "2024-08-14T01:58:28.292183Z"
    }
   },
   "outputs": [
    {
     "data": {
      "text/plain": [
       "array(['FactApp', 'ThoughApp', 'ExecutiveApp', 'FinalApp', 'ComputerApp',\n",
       "       'LookApp', 'NeverApp', 'HowApp', 'PerhapsApp', 'PickApp,LookApp',\n",
       "       'PickApp', 'PerhapsApp,FactApp', 'PerhapsApp,ExecutiveApp',\n",
       "       'ThoughApp,ComputerApp', 'FactApp,PickApp', 'FinalApp,NeverApp',\n",
       "       'NeverApp,ComputerApp', 'LookApp,HowApp', 'PickApp,FactApp',\n",
       "       'HowApp,ExecutiveApp', 'HowApp,PerhapsApp', 'NeverApp,LookApp',\n",
       "       'FactApp,LookApp', 'LookApp,FinalApp', 'ThoughApp,FinalApp',\n",
       "       'FactApp,ThoughApp', 'ExecutiveApp,HowApp', 'LookApp,PickApp',\n",
       "       'ExecutiveApp,PerhapsApp', 'LookApp,ExecutiveApp',\n",
       "       'ComputerApp,LookApp', 'PerhapsApp,NeverApp',\n",
       "       'FinalApp,ComputerApp', 'ThoughApp,NeverApp',\n",
       "       'ExecutiveApp,ThoughApp', 'PickApp,PerhapsApp',\n",
       "       'FinalApp,PerhapsApp', 'FactApp,FinalApp', 'ExecutiveApp,PickApp',\n",
       "       'HowApp,FactApp', 'HowApp,NeverApp', 'ThoughApp,PerhapsApp',\n",
       "       'ExecutiveApp,FactApp', 'ComputerApp,HowApp', 'NeverApp,ThoughApp'],\n",
       "      dtype=object)"
      ]
     },
     "execution_count": 23,
     "metadata": {},
     "output_type": "execute_result"
    }
   ],
   "source": [
    "df['G_Impacted_Apps'].unique()"
   ]
  },
  {
   "cell_type": "code",
   "execution_count": null,
   "id": "bf36940c",
   "metadata": {},
   "outputs": [],
   "source": []
  },
  {
   "cell_type": "code",
   "execution_count": null,
   "id": "9ae18d62",
   "metadata": {},
   "outputs": [],
   "source": []
  },
  {
   "cell_type": "code",
   "execution_count": null,
   "id": "699698a7",
   "metadata": {},
   "outputs": [],
   "source": []
  },
  {
   "cell_type": "code",
   "execution_count": null,
   "id": "8e32b674",
   "metadata": {},
   "outputs": [],
   "source": []
  },
  {
   "cell_type": "code",
   "execution_count": null,
   "id": "01c87d27",
   "metadata": {},
   "outputs": [],
   "source": []
  },
  {
   "cell_type": "code",
   "execution_count": null,
   "id": "941d7686",
   "metadata": {},
   "outputs": [],
   "source": []
  },
  {
   "cell_type": "code",
   "execution_count": null,
   "id": "7a354f32",
   "metadata": {},
   "outputs": [],
   "source": []
  },
  {
   "cell_type": "code",
   "execution_count": null,
   "id": "6e1fdb24",
   "metadata": {},
   "outputs": [],
   "source": []
  },
  {
   "cell_type": "code",
   "execution_count": null,
   "id": "4271ffec",
   "metadata": {},
   "outputs": [],
   "source": []
  },
  {
   "cell_type": "code",
   "execution_count": null,
   "id": "085d690d",
   "metadata": {},
   "outputs": [],
   "source": []
  },
  {
   "cell_type": "code",
   "execution_count": null,
   "id": "ade7e5e2",
   "metadata": {},
   "outputs": [],
   "source": []
  },
  {
   "cell_type": "code",
   "execution_count": null,
   "id": "e728f9de",
   "metadata": {},
   "outputs": [],
   "source": []
  },
  {
   "cell_type": "code",
   "execution_count": null,
   "id": "b759a123",
   "metadata": {},
   "outputs": [],
   "source": []
  },
  {
   "cell_type": "code",
   "execution_count": null,
   "id": "463d7f8c",
   "metadata": {},
   "outputs": [],
   "source": []
  },
  {
   "cell_type": "code",
   "execution_count": null,
   "id": "753b82d3",
   "metadata": {},
   "outputs": [],
   "source": []
  },
  {
   "cell_type": "code",
   "execution_count": null,
   "id": "bfcf262d",
   "metadata": {},
   "outputs": [],
   "source": []
  },
  {
   "cell_type": "code",
   "execution_count": null,
   "id": "7c79fc2d",
   "metadata": {},
   "outputs": [],
   "source": []
  },
  {
   "cell_type": "code",
   "execution_count": null,
   "id": "d381b279",
   "metadata": {},
   "outputs": [],
   "source": []
  },
  {
   "cell_type": "code",
   "execution_count": null,
   "id": "74512e8c",
   "metadata": {},
   "outputs": [],
   "source": []
  },
  {
   "cell_type": "code",
   "execution_count": null,
   "id": "08692ec3",
   "metadata": {},
   "outputs": [],
   "source": []
  },
  {
   "cell_type": "code",
   "execution_count": null,
   "id": "b64666e3",
   "metadata": {},
   "outputs": [],
   "source": []
  },
  {
   "cell_type": "code",
   "execution_count": null,
   "id": "e29b49b7",
   "metadata": {},
   "outputs": [],
   "source": []
  },
  {
   "cell_type": "code",
   "execution_count": null,
   "id": "8ceda248",
   "metadata": {},
   "outputs": [],
   "source": []
  },
  {
   "cell_type": "code",
   "execution_count": null,
   "id": "2cadcbac",
   "metadata": {},
   "outputs": [],
   "source": []
  },
  {
   "cell_type": "code",
   "execution_count": null,
   "id": "0d52af42",
   "metadata": {},
   "outputs": [],
   "source": []
  },
  {
   "cell_type": "code",
   "execution_count": null,
   "id": "5b55335b",
   "metadata": {},
   "outputs": [],
   "source": []
  },
  {
   "cell_type": "code",
   "execution_count": null,
   "id": "a17c6804",
   "metadata": {},
   "outputs": [],
   "source": []
  },
  {
   "cell_type": "code",
   "execution_count": null,
   "id": "a2517f10",
   "metadata": {},
   "outputs": [],
   "source": []
  }
 ],
 "metadata": {
  "kernelspec": {
   "display_name": "Python 3 (ipykernel)",
   "language": "python",
   "name": "python3"
  },
  "language_info": {
   "codemirror_mode": {
    "name": "ipython",
    "version": 3
   },
   "file_extension": ".py",
   "mimetype": "text/x-python",
   "name": "python",
   "nbconvert_exporter": "python",
   "pygments_lexer": "ipython3",
   "version": "3.12.3"
  },
  "varInspector": {
   "cols": {
    "lenName": 16,
    "lenType": 16,
    "lenVar": 40
   },
   "kernels_config": {
    "python": {
     "delete_cmd_postfix": "",
     "delete_cmd_prefix": "del ",
     "library": "var_list.py",
     "varRefreshCmd": "print(var_dic_list())"
    },
    "r": {
     "delete_cmd_postfix": ") ",
     "delete_cmd_prefix": "rm(",
     "library": "var_list.r",
     "varRefreshCmd": "cat(var_dic_list()) "
    }
   },
   "types_to_exclude": [
    "module",
    "function",
    "builtin_function_or_method",
    "instance",
    "_Feature"
   ],
   "window_display": false
  }
 },
 "nbformat": 4,
 "nbformat_minor": 5
}
